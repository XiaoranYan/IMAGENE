{
 "cells": [
  {
   "cell_type": "code",
   "execution_count": 7,
   "metadata": {
    "scrolled": true
   },
   "outputs": [],
   "source": [
    "library(dplyr)\n",
    "library(tidyr)\n",
    "library(stringr)\n",
    "library(kernlab)\n",
    "library(igraph)\n",
    "library(Rcpp)\n",
    "library(inline)\n",
    "library(mixKernel)\n",
    "library(Matrix)"
   ]
  },
  {
   "cell_type": "markdown",
   "metadata": {},
   "source": [
    "### Block 0 contains all the demographic features.  Block 1-4 are pre-calculated kernels from the original data.  Block 1b-4b are pre-calculated kernels from the age-regressed data. These are all persistence-scale-space kernels calculated using code in the optional 2 cell (see bottom cell). All data are kept (n=159)."
   ]
  },
  {
   "cell_type": "code",
   "execution_count": 28,
   "metadata": {},
   "outputs": [
    {
     "data": {
      "text/html": [
       "<strong>PNG:</strong> 2"
      ],
      "text/latex": [
       "\\textbf{PNG:} 2"
      ],
      "text/markdown": [
       "**PNG:** 2"
      ],
      "text/plain": [
       "PNG \n",
       "  2 "
      ]
     },
     "metadata": {},
     "output_type": "display_data"
    },
    {
     "data": {
      "text/html": [
       "<strong>PNG:</strong> 2"
      ],
      "text/latex": [
       "\\textbf{PNG:} 2"
      ],
      "text/markdown": [
       "**PNG:** 2"
      ],
      "text/plain": [
       "PNG \n",
       "  2 "
      ]
     },
     "metadata": {},
     "output_type": "display_data"
    }
   ],
   "source": [
    "setwd(\"/N/u/yan30/Karst/R/\")\n",
    "block1 = read.csv(\"thickPH0thickKernel.tsv\", header=FALSE, sep='\\t');\n",
    "block2 = read.csv(\"thickPH1thickKernel.tsv\", header=FALSE, sep='\\t');\n",
    "block3 = read.csv(\"thickPH0thinKernel.tsv\", header=FALSE, sep='\\t');\n",
    "block4 = read.csv(\"thickPH1thinKernel.tsv\", header=FALSE, sep='\\t');\n",
    "block1b = read.csv(\"thickPH0thickKernel_new.tsv\", header=FALSE, sep='\\t');\n",
    "block2b = read.csv(\"thickPH1thickKernel_new.tsv\", header=FALSE, sep='\\t');\n",
    "block3b = read.csv(\"thickPH0thinKernel_new.tsv\", header=FALSE, sep='\\t');\n",
    "block4b = read.csv(\"thickPH1thinKernel_new.tsv\", header=FALSE, sep='\\t');\n",
    "\n",
    "Kthick1 <- compute.kernel(data.matrix(block1), kernel.func = \"kidentity\");\n",
    "Kthick2 <- compute.kernel(data.matrix(block2), kernel.func = \"kidentity\");\n",
    "Kthick3 <- compute.kernel(data.matrix(block3), kernel.func = \"kidentity\");\n",
    "Kthick4 <- compute.kernel(data.matrix(block4), kernel.func = \"kidentity\");\n",
    "Kthick1b <- compute.kernel(data.matrix(block1b), kernel.func = \"kidentity\");\n",
    "Kthick2b <- compute.kernel(data.matrix(block2b), kernel.func = \"kidentity\");\n",
    "Kthick3b <- compute.kernel(data.matrix(block3b), kernel.func = \"kidentity\");\n",
    "Kthick4b <- compute.kernel(data.matrix(block4b), kernel.func = \"kidentity\");\n",
    "\n",
    "#read the subject social demographic features\n",
    "setwd(\"/gpfs/projects/UITS/IUNI/IMAGENE/Phom_output/\")\n",
    "block0 = read.csv(\"subFeaturesAll.csv\", header=TRUE, sep=\",\");\n",
    "\n",
    "#delete emtpy subjects, 159-4=155 remaining subs\n",
    "#noLabel = which(block0$DX == \"\")\n",
    "#block0 = block0[-noLabel, ]\n",
    "#block0$DX = factor(block0$DX)\n",
    "\n",
    "feature <- block0$AGE\n",
    "dummy <- mean(feature, na.rm=TRUE)\n",
    "feature[is.na(feature)] <- dummy\n",
    "Kage <- compute.kernel(data.frame(feature), kernel.func=\"gaussian.radial.basis\", sigma = 100)\n",
    "feature <- block0$EDU\n",
    "dummy <- mean(feature, na.rm=TRUE)\n",
    "feature[is.na(feature)] <- dummy\n",
    "Kedu <- compute.kernel(data.frame(feature), kernel.func=\"gaussian.radial.basis\", sigma = 100)\n",
    "feature <- block0$GENDER\n",
    "#feature[is.na(feature)] <- \"E\"\n",
    "feature[feature==\"\"] <- \"E\"\n",
    "feature <- as.numeric(feature)\n",
    "dummy <- mean(feature, na.rm=TRUE)\n",
    "Kgender <- compute.kernel(data.frame(feature), kernel.func=\"gaussian.radial.basis\", sigma = 100)\n",
    "\n",
    "#kernel comparison and merging\n",
    "pdf('/gpfs/projects/UITS/IUNI/IMAGENE/workingdir/yan30/kernelSimilarityAll.pdf')\n",
    "cim.kernel(Thick1=Kthick1, Thick2=Kthick2, Thick3=Kthick3, Thick4=Kthick4, Age=Kage, Edu=Kedu, Gender=Kgender)\n",
    "dev.off()\n",
    "meta.kernel <- combine.kernels(Thick1=Kthick1, Thick2=Kthick2, Thick3=Kthick3, Thick4=Kthick4, Age=Kage, Edu=Kedu, Gender=Kgender,method = \"sparse-UMKL\")\n",
    "#write.table(meta.kernel$kernel, file='/N/u/yan30/Karst/R/metaKernel.tsv', quote=FALSE, sep='\\t', col.names = F, row.names = F)\n",
    "#kernel comparison and merging\n",
    "pdf('/gpfs/projects/UITS/IUNI/IMAGENE/workingdir/yan30/kernelSimilarityAll_new.pdf')\n",
    "cim.kernel(Thick1=Kthick1b, Thick2=Kthick2b, Thick3=Kthick3b, Thick4=Kthick4b, Age=Kage, Edu=Kedu, Gender=Kgender)\n",
    "dev.off()\n",
    "meta.kernelb <- combine.kernels(Thick1=Kthick1b, Thick2=Kthick2b, Thick3=Kthick3b, Thick4=Kthick4b, Age=Kage, Edu=Kedu, Gender=Kgender,method = \"sparse-UMKL\")"
   ]
  },
  {
   "cell_type": "markdown",
   "metadata": {},
   "source": [
    "### Corss data set kernel comparison and reshape the kernels into kernlab format for down-stream processes. Only data points with valid labels are kept (n = 155)"
   ]
  },
  {
   "cell_type": "code",
   "execution_count": 29,
   "metadata": {},
   "outputs": [
    {
     "data": {
      "text/html": [
       "<strong>PNG:</strong> 2"
      ],
      "text/latex": [
       "\\textbf{PNG:} 2"
      ],
      "text/markdown": [
       "**PNG:** 2"
      ],
      "text/plain": [
       "PNG \n",
       "  2 "
      ]
     },
     "metadata": {},
     "output_type": "display_data"
    }
   ],
   "source": [
    "# Corss data set kernel comparison\n",
    "pdf('/gpfs/projects/UITS/IUNI/IMAGENE/workingdir/yan30/kernelSimilarity.pdf')\n",
    "cim.kernel(Thick=Kthick1, Thickb=Kthick1b, Age=Kage, Edu=Kedu, Gender=Kgender)\n",
    "dev.off()\n",
    "\n",
    "#delete emtpy subjects, 159-4=155 remaining subs\n",
    "noLabel = which(block0$DX == \"\")\n",
    "blockK <- as.matrix(meta.kernel$kernel)\n",
    "blockK = blockK[-noLabel, -noLabel]\n",
    "K <- as.kernelMatrix(blockK);\n",
    "\n",
    "blockKs <- as.matrix(meta.kernelb$kernel)\n",
    "blockKs = blockKs[-noLabel, -noLabel]\n",
    "Ks <- as.kernelMatrix(blockKs);\n",
    "\n",
    "kernel.pca.result <- kernel.pca(meta.kernel,  ncomp = 4)"
   ]
  },
  {
   "cell_type": "markdown",
   "metadata": {},
   "source": [
    "### Code for leave one out cross validations, for orignal data and age-regressed data respectively"
   ]
  },
  {
   "cell_type": "code",
   "execution_count": 31,
   "metadata": {},
   "outputs": [
    {
     "name": "stderr",
     "output_type": "stream",
     "text": [
      "Warning message in testP[k] <- predict(train, Ktest, type = \"probabilities\"):\n",
      "“number of items to replace is not a multiple of replacement length”Warning message in testP[k] <- predict(train, Ktest, type = \"probabilities\"):\n",
      "“number of items to replace is not a multiple of replacement length”Warning message in testP[k] <- predict(train, Ktest, type = \"probabilities\"):\n",
      "“number of items to replace is not a multiple of replacement length”Warning message in testP[k] <- predict(train, Ktest, type = \"probabilities\"):\n",
      "“number of items to replace is not a multiple of replacement length”Warning message in testP[k] <- predict(train, Ktest, type = \"probabilities\"):\n",
      "“number of items to replace is not a multiple of replacement length”Warning message in testP[k] <- predict(train, Ktest, type = \"probabilities\"):\n",
      "“number of items to replace is not a multiple of replacement length”Warning message in testP[k] <- predict(train, Ktest, type = \"probabilities\"):\n",
      "“number of items to replace is not a multiple of replacement length”Warning message in testP[k] <- predict(train, Ktest, type = \"probabilities\"):\n",
      "“number of items to replace is not a multiple of replacement length”Warning message in testP[k] <- predict(train, Ktest, type = \"probabilities\"):\n",
      "“number of items to replace is not a multiple of replacement length”Warning message in testP[k] <- predict(train, Ktest, type = \"probabilities\"):\n",
      "“number of items to replace is not a multiple of replacement length”Warning message in testP[k] <- predict(train, Ktest, type = \"probabilities\"):\n",
      "“number of items to replace is not a multiple of replacement length”Warning message in testP[k] <- predict(train, Ktest, type = \"probabilities\"):\n",
      "“number of items to replace is not a multiple of replacement length”Warning message in testP[k] <- predict(train, Ktest, type = \"probabilities\"):\n",
      "“number of items to replace is not a multiple of replacement length”Warning message in testP[k] <- predict(train, Ktest, type = \"probabilities\"):\n",
      "“number of items to replace is not a multiple of replacement length”Warning message in testP[k] <- predict(train, Ktest, type = \"probabilities\"):\n",
      "“number of items to replace is not a multiple of replacement length”Warning message in testP[k] <- predict(train, Ktest, type = \"probabilities\"):\n",
      "“number of items to replace is not a multiple of replacement length”Warning message in testP[k] <- predict(train, Ktest, type = \"probabilities\"):\n",
      "“number of items to replace is not a multiple of replacement length”Warning message in testP[k] <- predict(train, Ktest, type = \"probabilities\"):\n",
      "“number of items to replace is not a multiple of replacement length”Warning message in testP[k] <- predict(train, Ktest, type = \"probabilities\"):\n",
      "“number of items to replace is not a multiple of replacement length”Warning message in testP[k] <- predict(train, Ktest, type = \"probabilities\"):\n",
      "“number of items to replace is not a multiple of replacement length”Warning message in testP[k] <- predict(train, Ktest, type = \"probabilities\"):\n",
      "“number of items to replace is not a multiple of replacement length”Warning message in testP[k] <- predict(train, Ktest, type = \"probabilities\"):\n",
      "“number of items to replace is not a multiple of replacement length”Warning message in testP[k] <- predict(train, Ktest, type = \"probabilities\"):\n",
      "“number of items to replace is not a multiple of replacement length”Warning message in testP[k] <- predict(train, Ktest, type = \"probabilities\"):\n",
      "“number of items to replace is not a multiple of replacement length”Warning message in testP[k] <- predict(train, Ktest, type = \"probabilities\"):\n",
      "“number of items to replace is not a multiple of replacement length”Warning message in testP[k] <- predict(train, Ktest, type = \"probabilities\"):\n",
      "“number of items to replace is not a multiple of replacement length”Warning message in testP[k] <- predict(train, Ktest, type = \"probabilities\"):\n",
      "“number of items to replace is not a multiple of replacement length”Warning message in testP[k] <- predict(train, Ktest, type = \"probabilities\"):\n",
      "“number of items to replace is not a multiple of replacement length”Warning message in testP[k] <- predict(train, Ktest, type = \"probabilities\"):\n",
      "“number of items to replace is not a multiple of replacement length”Warning message in testP[k] <- predict(train, Ktest, type = \"probabilities\"):\n",
      "“number of items to replace is not a multiple of replacement length”Warning message in testP[k] <- predict(train, Ktest, type = \"probabilities\"):\n",
      "“number of items to replace is not a multiple of replacement length”Warning message in testP[k] <- predict(train, Ktest, type = \"probabilities\"):\n",
      "“number of items to replace is not a multiple of replacement length”Warning message in testP[k] <- predict(train, Ktest, type = \"probabilities\"):\n",
      "“number of items to replace is not a multiple of replacement length”Warning message in testP[k] <- predict(train, Ktest, type = \"probabilities\"):\n",
      "“number of items to replace is not a multiple of replacement length”Warning message in testP[k] <- predict(train, Ktest, type = \"probabilities\"):\n",
      "“number of items to replace is not a multiple of replacement length”Warning message in testP[k] <- predict(train, Ktest, type = \"probabilities\"):\n",
      "“number of items to replace is not a multiple of replacement length”Warning message in testP[k] <- predict(train, Ktest, type = \"probabilities\"):\n",
      "“number of items to replace is not a multiple of replacement length”Warning message in testP[k] <- predict(train, Ktest, type = \"probabilities\"):\n",
      "“number of items to replace is not a multiple of replacement length”Warning message in testP[k] <- predict(train, Ktest, type = \"probabilities\"):\n",
      "“number of items to replace is not a multiple of replacement length”Warning message in testP[k] <- predict(train, Ktest, type = \"probabilities\"):\n",
      "“number of items to replace is not a multiple of replacement length”Warning message in testP[k] <- predict(train, Ktest, type = \"probabilities\"):\n",
      "“number of items to replace is not a multiple of replacement length”Warning message in testP[k] <- predict(train, Ktest, type = \"probabilities\"):\n",
      "“number of items to replace is not a multiple of replacement length”Warning message in testP[k] <- predict(train, Ktest, type = \"probabilities\"):\n",
      "“number of items to replace is not a multiple of replacement length”Warning message in testP[k] <- predict(train, Ktest, type = \"probabilities\"):\n",
      "“number of items to replace is not a multiple of replacement length”Warning message in testP[k] <- predict(train, Ktest, type = \"probabilities\"):\n",
      "“number of items to replace is not a multiple of replacement length”Warning message in testP[k] <- predict(train, Ktest, type = \"probabilities\"):\n",
      "“number of items to replace is not a multiple of replacement length”Warning message in testP[k] <- predict(train, Ktest, type = \"probabilities\"):\n",
      "“number of items to replace is not a multiple of replacement length”Warning message in testP[k] <- predict(train, Ktest, type = \"probabilities\"):\n",
      "“number of items to replace is not a multiple of replacement length”Warning message in testP[k] <- predict(train, Ktest, type = \"probabilities\"):\n",
      "“number of items to replace is not a multiple of replacement length”Warning message in testP[k] <- predict(train, Ktest, type = \"probabilities\"):\n",
      "“number of items to replace is not a multiple of replacement length”Warning message in testP[k] <- predict(train, Ktest, type = \"probabilities\"):\n",
      "“number of items to replace is not a multiple of replacement length”Warning message in testP[k] <- predict(train, Ktest, type = \"probabilities\"):\n",
      "“number of items to replace is not a multiple of replacement length”Warning message in testP[k] <- predict(train, Ktest, type = \"probabilities\"):\n",
      "“number of items to replace is not a multiple of replacement length”Warning message in testP[k] <- predict(train, Ktest, type = \"probabilities\"):\n",
      "“number of items to replace is not a multiple of replacement length”Warning message in testP[k] <- predict(train, Ktest, type = \"probabilities\"):\n",
      "“number of items to replace is not a multiple of replacement length”Warning message in testP[k] <- predict(train, Ktest, type = \"probabilities\"):\n",
      "“number of items to replace is not a multiple of replacement length”Warning message in testP[k] <- predict(train, Ktest, type = \"probabilities\"):\n"
     ]
    },
    {
     "name": "stderr",
     "output_type": "stream",
     "text": [
      "“number of items to replace is not a multiple of replacement length”Warning message in testP[k] <- predict(train, Ktest, type = \"probabilities\"):\n",
      "“number of items to replace is not a multiple of replacement length”Warning message in testP[k] <- predict(train, Ktest, type = \"probabilities\"):\n",
      "“number of items to replace is not a multiple of replacement length”Warning message in testP[k] <- predict(train, Ktest, type = \"probabilities\"):\n",
      "“number of items to replace is not a multiple of replacement length”Warning message in testP[k] <- predict(train, Ktest, type = \"probabilities\"):\n",
      "“number of items to replace is not a multiple of replacement length”Warning message in testP[k] <- predict(train, Ktest, type = \"probabilities\"):\n",
      "“number of items to replace is not a multiple of replacement length”Warning message in testP[k] <- predict(train, Ktest, type = \"probabilities\"):\n",
      "“number of items to replace is not a multiple of replacement length”Warning message in testP[k] <- predict(train, Ktest, type = \"probabilities\"):\n",
      "“number of items to replace is not a multiple of replacement length”Warning message in testP[k] <- predict(train, Ktest, type = \"probabilities\"):\n",
      "“number of items to replace is not a multiple of replacement length”Warning message in testP[k] <- predict(train, Ktest, type = \"probabilities\"):\n",
      "“number of items to replace is not a multiple of replacement length”Warning message in testP[k] <- predict(train, Ktest, type = \"probabilities\"):\n",
      "“number of items to replace is not a multiple of replacement length”Warning message in testP[k] <- predict(train, Ktest, type = \"probabilities\"):\n",
      "“number of items to replace is not a multiple of replacement length”Warning message in testP[k] <- predict(train, Ktest, type = \"probabilities\"):\n",
      "“number of items to replace is not a multiple of replacement length”Warning message in testP[k] <- predict(train, Ktest, type = \"probabilities\"):\n",
      "“number of items to replace is not a multiple of replacement length”Warning message in testP[k] <- predict(train, Ktest, type = \"probabilities\"):\n",
      "“number of items to replace is not a multiple of replacement length”Warning message in testP[k] <- predict(train, Ktest, type = \"probabilities\"):\n",
      "“number of items to replace is not a multiple of replacement length”Warning message in testP[k] <- predict(train, Ktest, type = \"probabilities\"):\n",
      "“number of items to replace is not a multiple of replacement length”Warning message in testP[k] <- predict(train, Ktest, type = \"probabilities\"):\n",
      "“number of items to replace is not a multiple of replacement length”Warning message in testP[k] <- predict(train, Ktest, type = \"probabilities\"):\n",
      "“number of items to replace is not a multiple of replacement length”Warning message in testP[k] <- predict(train, Ktest, type = \"probabilities\"):\n",
      "“number of items to replace is not a multiple of replacement length”Warning message in testP[k] <- predict(train, Ktest, type = \"probabilities\"):\n",
      "“number of items to replace is not a multiple of replacement length”Warning message in testP[k] <- predict(train, Ktest, type = \"probabilities\"):\n",
      "“number of items to replace is not a multiple of replacement length”Warning message in testP[k] <- predict(train, Ktest, type = \"probabilities\"):\n",
      "“number of items to replace is not a multiple of replacement length”Warning message in testP[k] <- predict(train, Ktest, type = \"probabilities\"):\n",
      "“number of items to replace is not a multiple of replacement length”Warning message in testP[k] <- predict(train, Ktest, type = \"probabilities\"):\n",
      "“number of items to replace is not a multiple of replacement length”Warning message in testP[k] <- predict(train, Ktest, type = \"probabilities\"):\n",
      "“number of items to replace is not a multiple of replacement length”Warning message in testP[k] <- predict(train, Ktest, type = \"probabilities\"):\n",
      "“number of items to replace is not a multiple of replacement length”Warning message in testP[k] <- predict(train, Ktest, type = \"probabilities\"):\n",
      "“number of items to replace is not a multiple of replacement length”Warning message in testP[k] <- predict(train, Ktest, type = \"probabilities\"):\n",
      "“number of items to replace is not a multiple of replacement length”Warning message in testP[k] <- predict(train, Ktest, type = \"probabilities\"):\n",
      "“number of items to replace is not a multiple of replacement length”Warning message in testP[k] <- predict(train, Ktest, type = \"probabilities\"):\n",
      "“number of items to replace is not a multiple of replacement length”Warning message in testP[k] <- predict(train, Ktest, type = \"probabilities\"):\n",
      "“number of items to replace is not a multiple of replacement length”Warning message in testP[k] <- predict(train, Ktest, type = \"probabilities\"):\n",
      "“number of items to replace is not a multiple of replacement length”Warning message in testP[k] <- predict(train, Ktest, type = \"probabilities\"):\n",
      "“number of items to replace is not a multiple of replacement length”Warning message in testP[k] <- predict(train, Ktest, type = \"probabilities\"):\n",
      "“number of items to replace is not a multiple of replacement length”Warning message in testP[k] <- predict(train, Ktest, type = \"probabilities\"):\n",
      "“number of items to replace is not a multiple of replacement length”Warning message in testP[k] <- predict(train, Ktest, type = \"probabilities\"):\n",
      "“number of items to replace is not a multiple of replacement length”Warning message in testP[k] <- predict(train, Ktest, type = \"probabilities\"):\n",
      "“number of items to replace is not a multiple of replacement length”Warning message in testP[k] <- predict(train, Ktest, type = \"probabilities\"):\n",
      "“number of items to replace is not a multiple of replacement length”Warning message in testP[k] <- predict(train, Ktest, type = \"probabilities\"):\n",
      "“number of items to replace is not a multiple of replacement length”Warning message in testP[k] <- predict(train, Ktest, type = \"probabilities\"):\n",
      "“number of items to replace is not a multiple of replacement length”Warning message in testP[k] <- predict(train, Ktest, type = \"probabilities\"):\n",
      "“number of items to replace is not a multiple of replacement length”Warning message in testP[k] <- predict(train, Ktest, type = \"probabilities\"):\n",
      "“number of items to replace is not a multiple of replacement length”Warning message in testP[k] <- predict(train, Ktest, type = \"probabilities\"):\n",
      "“number of items to replace is not a multiple of replacement length”Warning message in testP[k] <- predict(train, Ktest, type = \"probabilities\"):\n",
      "“number of items to replace is not a multiple of replacement length”Warning message in testP[k] <- predict(train, Ktest, type = \"probabilities\"):\n",
      "“number of items to replace is not a multiple of replacement length”Warning message in testP[k] <- predict(train, Ktest, type = \"probabilities\"):\n",
      "“number of items to replace is not a multiple of replacement length”Warning message in testP[k] <- predict(train, Ktest, type = \"probabilities\"):\n",
      "“number of items to replace is not a multiple of replacement length”Warning message in testP[k] <- predict(train, Ktest, type = \"probabilities\"):\n",
      "“number of items to replace is not a multiple of replacement length”Warning message in testP[k] <- predict(train, Ktest, type = \"probabilities\"):\n",
      "“number of items to replace is not a multiple of replacement length”Warning message in testP[k] <- predict(train, Ktest, type = \"probabilities\"):\n",
      "“number of items to replace is not a multiple of replacement length”Warning message in testP[k] <- predict(train, Ktest, type = \"probabilities\"):\n",
      "“number of items to replace is not a multiple of replacement length”Warning message in testP[k] <- predict(train, Ktest, type = \"probabilities\"):\n",
      "“number of items to replace is not a multiple of replacement length”Warning message in testP[k] <- predict(train, Ktest, type = \"probabilities\"):\n",
      "“number of items to replace is not a multiple of replacement length”Warning message in testP[k] <- predict(train, Ktest, type = \"probabilities\"):\n",
      "“number of items to replace is not a multiple of replacement length”Warning message in testP[k] <- predict(train, Ktest, type = \"probabilities\"):\n",
      "“number of items to replace is not a multiple of replacement length”Warning message in testP[k] <- predict(train, Ktest, type = \"probabilities\"):\n"
     ]
    },
    {
     "name": "stderr",
     "output_type": "stream",
     "text": [
      "“number of items to replace is not a multiple of replacement length”Warning message in testP[k] <- predict(train, Ktest, type = \"probabilities\"):\n",
      "“number of items to replace is not a multiple of replacement length”Warning message in testP[k] <- predict(train, Ktest, type = \"probabilities\"):\n",
      "“number of items to replace is not a multiple of replacement length”Warning message in testP[k] <- predict(train, Ktest, type = \"probabilities\"):\n",
      "“number of items to replace is not a multiple of replacement length”Warning message in testP[k] <- predict(train, Ktest, type = \"probabilities\"):\n",
      "“number of items to replace is not a multiple of replacement length”Warning message in testP[k] <- predict(train, Ktest, type = \"probabilities\"):\n",
      "“number of items to replace is not a multiple of replacement length”Warning message in testP[k] <- predict(train, Ktest, type = \"probabilities\"):\n",
      "“number of items to replace is not a multiple of replacement length”Warning message in testP[k] <- predict(train, Ktest, type = \"probabilities\"):\n",
      "“number of items to replace is not a multiple of replacement length”Warning message in testP[k] <- predict(train, Ktest, type = \"probabilities\"):\n",
      "“number of items to replace is not a multiple of replacement length”Warning message in testP[k] <- predict(train, Ktest, type = \"probabilities\"):\n",
      "“number of items to replace is not a multiple of replacement length”Warning message in testP[k] <- predict(train, Ktest, type = \"probabilities\"):\n",
      "“number of items to replace is not a multiple of replacement length”Warning message in testP[k] <- predict(train, Ktest, type = \"probabilities\"):\n",
      "“number of items to replace is not a multiple of replacement length”Warning message in testP[k] <- predict(train, Ktest, type = \"probabilities\"):\n",
      "“number of items to replace is not a multiple of replacement length”Warning message in testP[k] <- predict(train, Ktest, type = \"probabilities\"):\n",
      "“number of items to replace is not a multiple of replacement length”Warning message in testP[k] <- predict(train, Ktest, type = \"probabilities\"):\n",
      "“number of items to replace is not a multiple of replacement length”Warning message in testP[k] <- predict(train, Ktest, type = \"probabilities\"):\n",
      "“number of items to replace is not a multiple of replacement length”Warning message in testP[k] <- predict(train, Ktest, type = \"probabilities\"):\n",
      "“number of items to replace is not a multiple of replacement length”Warning message in testP[k] <- predict(train, Ktest, type = \"probabilities\"):\n",
      "“number of items to replace is not a multiple of replacement length”Warning message in testP[k] <- predict(train, Ktest, type = \"probabilities\"):\n",
      "“number of items to replace is not a multiple of replacement length”Warning message in testP[k] <- predict(train, Ktest, type = \"probabilities\"):\n",
      "“number of items to replace is not a multiple of replacement length”Warning message in testP[k] <- predict(train, Ktest, type = \"probabilities\"):\n",
      "“number of items to replace is not a multiple of replacement length”Warning message in testP[k] <- predict(train, Ktest, type = \"probabilities\"):\n",
      "“number of items to replace is not a multiple of replacement length”Warning message in testP[k] <- predict(train, Ktest, type = \"probabilities\"):\n",
      "“number of items to replace is not a multiple of replacement length”Warning message in testP[k] <- predict(train, Ktest, type = \"probabilities\"):\n",
      "“number of items to replace is not a multiple of replacement length”Warning message in testP[k] <- predict(train, Ktest, type = \"probabilities\"):\n",
      "“number of items to replace is not a multiple of replacement length”Warning message in testP[k] <- predict(train, Ktest, type = \"probabilities\"):\n",
      "“number of items to replace is not a multiple of replacement length”Warning message in testP[k] <- predict(train, Ktest, type = \"probabilities\"):\n",
      "“number of items to replace is not a multiple of replacement length”Warning message in testP[k] <- predict(train, Ktest, type = \"probabilities\"):\n",
      "“number of items to replace is not a multiple of replacement length”Warning message in testP[k] <- predict(train, Ktest, type = \"probabilities\"):\n",
      "“number of items to replace is not a multiple of replacement length”Warning message in testP[k] <- predict(train, Ktest, type = \"probabilities\"):\n",
      "“number of items to replace is not a multiple of replacement length”Warning message in testP[k] <- predict(train, Ktest, type = \"probabilities\"):\n",
      "“number of items to replace is not a multiple of replacement length”Warning message in testP[k] <- predict(train, Ktest, type = \"probabilities\"):\n",
      "“number of items to replace is not a multiple of replacement length”Warning message in testP[k] <- predict(train, Ktest, type = \"probabilities\"):\n",
      "“number of items to replace is not a multiple of replacement length”Warning message in testP[k] <- predict(train, Ktest, type = \"probabilities\"):\n",
      "“number of items to replace is not a multiple of replacement length”Warning message in testP[k] <- predict(train, Ktest, type = \"probabilities\"):\n",
      "“number of items to replace is not a multiple of replacement length”Warning message in testP[k] <- predict(train, Ktest, type = \"probabilities\"):\n",
      "“number of items to replace is not a multiple of replacement length”Warning message in testP[k] <- predict(train, Ktest, type = \"probabilities\"):\n",
      "“number of items to replace is not a multiple of replacement length”Warning message in testP[k] <- predict(train, Ktest, type = \"probabilities\"):\n",
      "“number of items to replace is not a multiple of replacement length”Warning message in testP[k] <- predict(train, Ktest, type = \"probabilities\"):\n",
      "“number of items to replace is not a multiple of replacement length”Warning message in testP[k] <- predict(train, Ktest, type = \"probabilities\"):\n",
      "“number of items to replace is not a multiple of replacement length”Warning message in testP[k] <- predict(train, Ktest, type = \"probabilities\"):\n",
      "“number of items to replace is not a multiple of replacement length”Warning message in testP[k] <- predict(train, Ktest, type = \"probabilities\"):\n",
      "“number of items to replace is not a multiple of replacement length”Warning message in testP[k] <- predict(train, Ktest, type = \"probabilities\"):\n",
      "“number of items to replace is not a multiple of replacement length”Warning message in testSP[k] <- predict(train, Ktest, type = \"probabilities\"):\n",
      "“number of items to replace is not a multiple of replacement length”Warning message in testSP[k] <- predict(train, Ktest, type = \"probabilities\"):\n",
      "“number of items to replace is not a multiple of replacement length”Warning message in testSP[k] <- predict(train, Ktest, type = \"probabilities\"):\n",
      "“number of items to replace is not a multiple of replacement length”Warning message in testSP[k] <- predict(train, Ktest, type = \"probabilities\"):\n",
      "“number of items to replace is not a multiple of replacement length”Warning message in testSP[k] <- predict(train, Ktest, type = \"probabilities\"):\n",
      "“number of items to replace is not a multiple of replacement length”Warning message in testSP[k] <- predict(train, Ktest, type = \"probabilities\"):\n",
      "“number of items to replace is not a multiple of replacement length”Warning message in testSP[k] <- predict(train, Ktest, type = \"probabilities\"):\n",
      "“number of items to replace is not a multiple of replacement length”Warning message in testSP[k] <- predict(train, Ktest, type = \"probabilities\"):\n",
      "“number of items to replace is not a multiple of replacement length”Warning message in testSP[k] <- predict(train, Ktest, type = \"probabilities\"):\n",
      "“number of items to replace is not a multiple of replacement length”Warning message in testSP[k] <- predict(train, Ktest, type = \"probabilities\"):\n",
      "“number of items to replace is not a multiple of replacement length”Warning message in testSP[k] <- predict(train, Ktest, type = \"probabilities\"):\n",
      "“number of items to replace is not a multiple of replacement length”Warning message in testSP[k] <- predict(train, Ktest, type = \"probabilities\"):\n",
      "“number of items to replace is not a multiple of replacement length”Warning message in testSP[k] <- predict(train, Ktest, type = \"probabilities\"):\n",
      "“number of items to replace is not a multiple of replacement length”Warning message in testSP[k] <- predict(train, Ktest, type = \"probabilities\"):\n"
     ]
    },
    {
     "name": "stderr",
     "output_type": "stream",
     "text": [
      "“number of items to replace is not a multiple of replacement length”Warning message in testSP[k] <- predict(train, Ktest, type = \"probabilities\"):\n",
      "“number of items to replace is not a multiple of replacement length”Warning message in testSP[k] <- predict(train, Ktest, type = \"probabilities\"):\n",
      "“number of items to replace is not a multiple of replacement length”Warning message in testSP[k] <- predict(train, Ktest, type = \"probabilities\"):\n",
      "“number of items to replace is not a multiple of replacement length”Warning message in testSP[k] <- predict(train, Ktest, type = \"probabilities\"):\n",
      "“number of items to replace is not a multiple of replacement length”Warning message in testSP[k] <- predict(train, Ktest, type = \"probabilities\"):\n",
      "“number of items to replace is not a multiple of replacement length”Warning message in testSP[k] <- predict(train, Ktest, type = \"probabilities\"):\n",
      "“number of items to replace is not a multiple of replacement length”Warning message in testSP[k] <- predict(train, Ktest, type = \"probabilities\"):\n",
      "“number of items to replace is not a multiple of replacement length”Warning message in testSP[k] <- predict(train, Ktest, type = \"probabilities\"):\n",
      "“number of items to replace is not a multiple of replacement length”Warning message in testSP[k] <- predict(train, Ktest, type = \"probabilities\"):\n",
      "“number of items to replace is not a multiple of replacement length”Warning message in testSP[k] <- predict(train, Ktest, type = \"probabilities\"):\n",
      "“number of items to replace is not a multiple of replacement length”Warning message in testSP[k] <- predict(train, Ktest, type = \"probabilities\"):\n",
      "“number of items to replace is not a multiple of replacement length”Warning message in testSP[k] <- predict(train, Ktest, type = \"probabilities\"):\n",
      "“number of items to replace is not a multiple of replacement length”Warning message in testSP[k] <- predict(train, Ktest, type = \"probabilities\"):\n",
      "“number of items to replace is not a multiple of replacement length”Warning message in testSP[k] <- predict(train, Ktest, type = \"probabilities\"):\n",
      "“number of items to replace is not a multiple of replacement length”Warning message in testSP[k] <- predict(train, Ktest, type = \"probabilities\"):\n",
      "“number of items to replace is not a multiple of replacement length”Warning message in testSP[k] <- predict(train, Ktest, type = \"probabilities\"):\n",
      "“number of items to replace is not a multiple of replacement length”Warning message in testSP[k] <- predict(train, Ktest, type = \"probabilities\"):\n",
      "“number of items to replace is not a multiple of replacement length”Warning message in testSP[k] <- predict(train, Ktest, type = \"probabilities\"):\n",
      "“number of items to replace is not a multiple of replacement length”Warning message in testSP[k] <- predict(train, Ktest, type = \"probabilities\"):\n",
      "“number of items to replace is not a multiple of replacement length”Warning message in testSP[k] <- predict(train, Ktest, type = \"probabilities\"):\n",
      "“number of items to replace is not a multiple of replacement length”Warning message in testSP[k] <- predict(train, Ktest, type = \"probabilities\"):\n",
      "“number of items to replace is not a multiple of replacement length”Warning message in testSP[k] <- predict(train, Ktest, type = \"probabilities\"):\n",
      "“number of items to replace is not a multiple of replacement length”Warning message in testSP[k] <- predict(train, Ktest, type = \"probabilities\"):\n",
      "“number of items to replace is not a multiple of replacement length”Warning message in testSP[k] <- predict(train, Ktest, type = \"probabilities\"):\n",
      "“number of items to replace is not a multiple of replacement length”Warning message in testSP[k] <- predict(train, Ktest, type = \"probabilities\"):\n",
      "“number of items to replace is not a multiple of replacement length”Warning message in testSP[k] <- predict(train, Ktest, type = \"probabilities\"):\n",
      "“number of items to replace is not a multiple of replacement length”Warning message in testSP[k] <- predict(train, Ktest, type = \"probabilities\"):\n",
      "“number of items to replace is not a multiple of replacement length”Warning message in testSP[k] <- predict(train, Ktest, type = \"probabilities\"):\n",
      "“number of items to replace is not a multiple of replacement length”Warning message in testSP[k] <- predict(train, Ktest, type = \"probabilities\"):\n",
      "“number of items to replace is not a multiple of replacement length”Warning message in testSP[k] <- predict(train, Ktest, type = \"probabilities\"):\n",
      "“number of items to replace is not a multiple of replacement length”Warning message in testSP[k] <- predict(train, Ktest, type = \"probabilities\"):\n",
      "“number of items to replace is not a multiple of replacement length”Warning message in testSP[k] <- predict(train, Ktest, type = \"probabilities\"):\n",
      "“number of items to replace is not a multiple of replacement length”Warning message in testSP[k] <- predict(train, Ktest, type = \"probabilities\"):\n",
      "“number of items to replace is not a multiple of replacement length”Warning message in testSP[k] <- predict(train, Ktest, type = \"probabilities\"):\n",
      "“number of items to replace is not a multiple of replacement length”Warning message in testSP[k] <- predict(train, Ktest, type = \"probabilities\"):\n",
      "“number of items to replace is not a multiple of replacement length”Warning message in testSP[k] <- predict(train, Ktest, type = \"probabilities\"):\n",
      "“number of items to replace is not a multiple of replacement length”Warning message in testSP[k] <- predict(train, Ktest, type = \"probabilities\"):\n",
      "“number of items to replace is not a multiple of replacement length”Warning message in testSP[k] <- predict(train, Ktest, type = \"probabilities\"):\n",
      "“number of items to replace is not a multiple of replacement length”Warning message in testSP[k] <- predict(train, Ktest, type = \"probabilities\"):\n",
      "“number of items to replace is not a multiple of replacement length”Warning message in testSP[k] <- predict(train, Ktest, type = \"probabilities\"):\n",
      "“number of items to replace is not a multiple of replacement length”Warning message in testSP[k] <- predict(train, Ktest, type = \"probabilities\"):\n",
      "“number of items to replace is not a multiple of replacement length”Warning message in testSP[k] <- predict(train, Ktest, type = \"probabilities\"):\n",
      "“number of items to replace is not a multiple of replacement length”Warning message in testSP[k] <- predict(train, Ktest, type = \"probabilities\"):\n",
      "“number of items to replace is not a multiple of replacement length”Warning message in testSP[k] <- predict(train, Ktest, type = \"probabilities\"):\n",
      "“number of items to replace is not a multiple of replacement length”Warning message in testSP[k] <- predict(train, Ktest, type = \"probabilities\"):\n",
      "“number of items to replace is not a multiple of replacement length”Warning message in testSP[k] <- predict(train, Ktest, type = \"probabilities\"):\n",
      "“number of items to replace is not a multiple of replacement length”Warning message in testSP[k] <- predict(train, Ktest, type = \"probabilities\"):\n",
      "“number of items to replace is not a multiple of replacement length”Warning message in testSP[k] <- predict(train, Ktest, type = \"probabilities\"):\n",
      "“number of items to replace is not a multiple of replacement length”Warning message in testSP[k] <- predict(train, Ktest, type = \"probabilities\"):\n",
      "“number of items to replace is not a multiple of replacement length”Warning message in testSP[k] <- predict(train, Ktest, type = \"probabilities\"):\n",
      "“number of items to replace is not a multiple of replacement length”Warning message in testSP[k] <- predict(train, Ktest, type = \"probabilities\"):\n",
      "“number of items to replace is not a multiple of replacement length”Warning message in testSP[k] <- predict(train, Ktest, type = \"probabilities\"):\n",
      "“number of items to replace is not a multiple of replacement length”Warning message in testSP[k] <- predict(train, Ktest, type = \"probabilities\"):\n",
      "“number of items to replace is not a multiple of replacement length”Warning message in testSP[k] <- predict(train, Ktest, type = \"probabilities\"):\n",
      "“number of items to replace is not a multiple of replacement length”Warning message in testSP[k] <- predict(train, Ktest, type = \"probabilities\"):\n",
      "“number of items to replace is not a multiple of replacement length”Warning message in testSP[k] <- predict(train, Ktest, type = \"probabilities\"):\n"
     ]
    },
    {
     "name": "stderr",
     "output_type": "stream",
     "text": [
      "“number of items to replace is not a multiple of replacement length”Warning message in testSP[k] <- predict(train, Ktest, type = \"probabilities\"):\n",
      "“number of items to replace is not a multiple of replacement length”Warning message in testSP[k] <- predict(train, Ktest, type = \"probabilities\"):\n",
      "“number of items to replace is not a multiple of replacement length”Warning message in testSP[k] <- predict(train, Ktest, type = \"probabilities\"):\n",
      "“number of items to replace is not a multiple of replacement length”Warning message in testSP[k] <- predict(train, Ktest, type = \"probabilities\"):\n",
      "“number of items to replace is not a multiple of replacement length”Warning message in testSP[k] <- predict(train, Ktest, type = \"probabilities\"):\n",
      "“number of items to replace is not a multiple of replacement length”Warning message in testSP[k] <- predict(train, Ktest, type = \"probabilities\"):\n",
      "“number of items to replace is not a multiple of replacement length”Warning message in testSP[k] <- predict(train, Ktest, type = \"probabilities\"):\n",
      "“number of items to replace is not a multiple of replacement length”Warning message in testSP[k] <- predict(train, Ktest, type = \"probabilities\"):\n",
      "“number of items to replace is not a multiple of replacement length”Warning message in testSP[k] <- predict(train, Ktest, type = \"probabilities\"):\n",
      "“number of items to replace is not a multiple of replacement length”Warning message in testSP[k] <- predict(train, Ktest, type = \"probabilities\"):\n",
      "“number of items to replace is not a multiple of replacement length”Warning message in testSP[k] <- predict(train, Ktest, type = \"probabilities\"):\n",
      "“number of items to replace is not a multiple of replacement length”Warning message in testSP[k] <- predict(train, Ktest, type = \"probabilities\"):\n",
      "“number of items to replace is not a multiple of replacement length”Warning message in testSP[k] <- predict(train, Ktest, type = \"probabilities\"):\n",
      "“number of items to replace is not a multiple of replacement length”Warning message in testSP[k] <- predict(train, Ktest, type = \"probabilities\"):\n",
      "“number of items to replace is not a multiple of replacement length”Warning message in testSP[k] <- predict(train, Ktest, type = \"probabilities\"):\n",
      "“number of items to replace is not a multiple of replacement length”Warning message in testSP[k] <- predict(train, Ktest, type = \"probabilities\"):\n",
      "“number of items to replace is not a multiple of replacement length”Warning message in testSP[k] <- predict(train, Ktest, type = \"probabilities\"):\n",
      "“number of items to replace is not a multiple of replacement length”Warning message in testSP[k] <- predict(train, Ktest, type = \"probabilities\"):\n",
      "“number of items to replace is not a multiple of replacement length”Warning message in testSP[k] <- predict(train, Ktest, type = \"probabilities\"):\n",
      "“number of items to replace is not a multiple of replacement length”Warning message in testSP[k] <- predict(train, Ktest, type = \"probabilities\"):\n",
      "“number of items to replace is not a multiple of replacement length”Warning message in testSP[k] <- predict(train, Ktest, type = \"probabilities\"):\n",
      "“number of items to replace is not a multiple of replacement length”Warning message in testSP[k] <- predict(train, Ktest, type = \"probabilities\"):\n",
      "“number of items to replace is not a multiple of replacement length”Warning message in testSP[k] <- predict(train, Ktest, type = \"probabilities\"):\n",
      "“number of items to replace is not a multiple of replacement length”Warning message in testSP[k] <- predict(train, Ktest, type = \"probabilities\"):\n",
      "“number of items to replace is not a multiple of replacement length”Warning message in testSP[k] <- predict(train, Ktest, type = \"probabilities\"):\n",
      "“number of items to replace is not a multiple of replacement length”Warning message in testSP[k] <- predict(train, Ktest, type = \"probabilities\"):\n",
      "“number of items to replace is not a multiple of replacement length”Warning message in testSP[k] <- predict(train, Ktest, type = \"probabilities\"):\n",
      "“number of items to replace is not a multiple of replacement length”Warning message in testSP[k] <- predict(train, Ktest, type = \"probabilities\"):\n",
      "“number of items to replace is not a multiple of replacement length”Warning message in testSP[k] <- predict(train, Ktest, type = \"probabilities\"):\n",
      "“number of items to replace is not a multiple of replacement length”Warning message in testSP[k] <- predict(train, Ktest, type = \"probabilities\"):\n",
      "“number of items to replace is not a multiple of replacement length”Warning message in testSP[k] <- predict(train, Ktest, type = \"probabilities\"):\n",
      "“number of items to replace is not a multiple of replacement length”Warning message in testSP[k] <- predict(train, Ktest, type = \"probabilities\"):\n",
      "“number of items to replace is not a multiple of replacement length”Warning message in testSP[k] <- predict(train, Ktest, type = \"probabilities\"):\n",
      "“number of items to replace is not a multiple of replacement length”Warning message in testSP[k] <- predict(train, Ktest, type = \"probabilities\"):\n",
      "“number of items to replace is not a multiple of replacement length”Warning message in testSP[k] <- predict(train, Ktest, type = \"probabilities\"):\n",
      "“number of items to replace is not a multiple of replacement length”Warning message in testSP[k] <- predict(train, Ktest, type = \"probabilities\"):\n",
      "“number of items to replace is not a multiple of replacement length”Warning message in testSP[k] <- predict(train, Ktest, type = \"probabilities\"):\n",
      "“number of items to replace is not a multiple of replacement length”Warning message in testSP[k] <- predict(train, Ktest, type = \"probabilities\"):\n",
      "“number of items to replace is not a multiple of replacement length”Warning message in testSP[k] <- predict(train, Ktest, type = \"probabilities\"):\n",
      "“number of items to replace is not a multiple of replacement length”Warning message in testSP[k] <- predict(train, Ktest, type = \"probabilities\"):\n",
      "“number of items to replace is not a multiple of replacement length”Warning message in testSP[k] <- predict(train, Ktest, type = \"probabilities\"):\n",
      "“number of items to replace is not a multiple of replacement length”Warning message in testSP[k] <- predict(train, Ktest, type = \"probabilities\"):\n",
      "“number of items to replace is not a multiple of replacement length”Warning message in testSP[k] <- predict(train, Ktest, type = \"probabilities\"):\n",
      "“number of items to replace is not a multiple of replacement length”Warning message in testSP[k] <- predict(train, Ktest, type = \"probabilities\"):\n",
      "“number of items to replace is not a multiple of replacement length”Warning message in testSP[k] <- predict(train, Ktest, type = \"probabilities\"):\n",
      "“number of items to replace is not a multiple of replacement length”Warning message in testSP[k] <- predict(train, Ktest, type = \"probabilities\"):\n",
      "“number of items to replace is not a multiple of replacement length”Warning message in testSP[k] <- predict(train, Ktest, type = \"probabilities\"):\n",
      "“number of items to replace is not a multiple of replacement length”Warning message in testSP[k] <- predict(train, Ktest, type = \"probabilities\"):\n",
      "“number of items to replace is not a multiple of replacement length”Warning message in testSP[k] <- predict(train, Ktest, type = \"probabilities\"):\n",
      "“number of items to replace is not a multiple of replacement length”Warning message in testSP[k] <- predict(train, Ktest, type = \"probabilities\"):\n",
      "“number of items to replace is not a multiple of replacement length”Warning message in testSP[k] <- predict(train, Ktest, type = \"probabilities\"):\n",
      "“number of items to replace is not a multiple of replacement length”Warning message in testSP[k] <- predict(train, Ktest, type = \"probabilities\"):\n",
      "“number of items to replace is not a multiple of replacement length”Warning message in testSP[k] <- predict(train, Ktest, type = \"probabilities\"):\n",
      "“number of items to replace is not a multiple of replacement length”Warning message in testSP[k] <- predict(train, Ktest, type = \"probabilities\"):\n",
      "“number of items to replace is not a multiple of replacement length”Warning message in testSP[k] <- predict(train, Ktest, type = \"probabilities\"):\n",
      "“number of items to replace is not a multiple of replacement length”Warning message in testSP[k] <- predict(train, Ktest, type = \"probabilities\"):\n"
     ]
    },
    {
     "name": "stderr",
     "output_type": "stream",
     "text": [
      "“number of items to replace is not a multiple of replacement length”Warning message in testSP[k] <- predict(train, Ktest, type = \"probabilities\"):\n",
      "“number of items to replace is not a multiple of replacement length”Warning message in testSP[k] <- predict(train, Ktest, type = \"probabilities\"):\n",
      "“number of items to replace is not a multiple of replacement length”Warning message in testSP[k] <- predict(train, Ktest, type = \"probabilities\"):\n",
      "“number of items to replace is not a multiple of replacement length”Warning message in testSP[k] <- predict(train, Ktest, type = \"probabilities\"):\n",
      "“number of items to replace is not a multiple of replacement length”Warning message in testSP[k] <- predict(train, Ktest, type = \"probabilities\"):\n",
      "“number of items to replace is not a multiple of replacement length”Warning message in testSP[k] <- predict(train, Ktest, type = \"probabilities\"):\n",
      "“number of items to replace is not a multiple of replacement length”Warning message in testSP[k] <- predict(train, Ktest, type = \"probabilities\"):\n",
      "“number of items to replace is not a multiple of replacement length”Warning message in testSP[k] <- predict(train, Ktest, type = \"probabilities\"):\n",
      "“number of items to replace is not a multiple of replacement length”Warning message in testSP[k] <- predict(train, Ktest, type = \"probabilities\"):\n",
      "“number of items to replace is not a multiple of replacement length”Warning message in testSP[k] <- predict(train, Ktest, type = \"probabilities\"):\n",
      "“number of items to replace is not a multiple of replacement length”Warning message in testSP[k] <- predict(train, Ktest, type = \"probabilities\"):\n",
      "“number of items to replace is not a multiple of replacement length”Warning message in testSP[k] <- predict(train, Ktest, type = \"probabilities\"):\n",
      "“number of items to replace is not a multiple of replacement length”Warning message in testSP[k] <- predict(train, Ktest, type = \"probabilities\"):\n",
      "“number of items to replace is not a multiple of replacement length”Warning message in testSP[k] <- predict(train, Ktest, type = \"probabilities\"):\n",
      "“number of items to replace is not a multiple of replacement length”Warning message in testSP[k] <- predict(train, Ktest, type = \"probabilities\"):\n",
      "“number of items to replace is not a multiple of replacement length”Warning message in testSP[k] <- predict(train, Ktest, type = \"probabilities\"):\n",
      "“number of items to replace is not a multiple of replacement length”Warning message in testSP[k] <- predict(train, Ktest, type = \"probabilities\"):\n",
      "“number of items to replace is not a multiple of replacement length”Warning message in testSP[k] <- predict(train, Ktest, type = \"probabilities\"):\n",
      "“number of items to replace is not a multiple of replacement length”Warning message in testSP[k] <- predict(train, Ktest, type = \"probabilities\"):\n",
      "“number of items to replace is not a multiple of replacement length”Warning message in testSP[k] <- predict(train, Ktest, type = \"probabilities\"):\n",
      "“number of items to replace is not a multiple of replacement length”Warning message in testSP[k] <- predict(train, Ktest, type = \"probabilities\"):\n",
      "“number of items to replace is not a multiple of replacement length”Warning message in testSP[k] <- predict(train, Ktest, type = \"probabilities\"):\n",
      "“number of items to replace is not a multiple of replacement length”Warning message in testSP[k] <- predict(train, Ktest, type = \"probabilities\"):\n",
      "“number of items to replace is not a multiple of replacement length”Warning message in testSP[k] <- predict(train, Ktest, type = \"probabilities\"):\n",
      "“number of items to replace is not a multiple of replacement length”Warning message in testSP[k] <- predict(train, Ktest, type = \"probabilities\"):\n",
      "“number of items to replace is not a multiple of replacement length”Warning message in testSP[k] <- predict(train, Ktest, type = \"probabilities\"):\n",
      "“number of items to replace is not a multiple of replacement length”Warning message in testSP[k] <- predict(train, Ktest, type = \"probabilities\"):\n",
      "“number of items to replace is not a multiple of replacement length”Warning message in testSP[k] <- predict(train, Ktest, type = \"probabilities\"):\n",
      "“number of items to replace is not a multiple of replacement length”Warning message in testSP[k] <- predict(train, Ktest, type = \"probabilities\"):\n",
      "“number of items to replace is not a multiple of replacement length”"
     ]
    }
   ],
   "source": [
    "setwd(\"/gpfs/projects/UITS/IUNI/IMAGENE/Phom_output\")\n",
    "library(dplyr)\n",
    "library(tidyr)\n",
    "library(stringr)\n",
    "library(kernlab)\n",
    "library(pROC)    \n",
    "\n",
    "#delete emtpy subjects, 159-4=155 remaining subs\n",
    "noLabel = which(block0$DX == \"\")\n",
    "block0 = block0[-noLabel, ]\n",
    "block0$DX = factor(block0$DX)\n",
    "\n",
    "#LOOCV code\n",
    "test <- as.vector(block0$DX)\n",
    "testS <- as.vector(block0$DX)\n",
    "testP <- as.vector(block0$DX)\n",
    "testSP <- as.vector(block0$DX)\n",
    "loocv_tmp <- matrix(NA, nrow = nrow(block0), 1)\n",
    "for (k in 1:nrow(block0)) {\n",
    "  #k = 1\n",
    "  train <- ksvm(K[-k, -k], block0$DX[-k], type=\"C-svc\", kernel='matrix', prob.model = TRUE)\n",
    "  Ktest <- as.kernelMatrix(K[k, -k, drop=F][,SVindex(train), drop=F])\n",
    "  testP[k] <- predict(train, Ktest, type = \"probabilities\")\n",
    "  test[k] <- predict(train, Ktest)\n",
    "  loocv_tmp[k, ] <- as.numeric(as.character(test[k]))-1==(as.numeric(block0$DX[k])+1)%%2\n",
    "}\n",
    "loocv <- colMeans(loocv_tmp)\n",
    "\n",
    "loocvS_tmp <- matrix(NA, nrow = nrow(block0), 1)\n",
    "for (k in 1:nrow(block0)) {\n",
    "  #k = 1\n",
    "  train <- ksvm(Ks[-k, -k], block0$DX[-k], type=\"C-svc\", kernel='matrix', prob.model = TRUE)\n",
    "  Ktest <- as.kernelMatrix(Ks[k, -k, drop=F][,SVindex(train), drop=F])\n",
    "  testSP[k] <- predict(train, Ktest, type = \"probabilities\")\n",
    "  testS[k] <- predict(train, Ktest)  \n",
    "  loocvS_tmp[k, ] <- as.numeric(as.character(testS[k]))-1==(as.numeric(block0$DX[k])+1)%%2\n",
    "}\n",
    "loocvS <- colMeans(loocvS_tmp)\n"
   ]
  },
  {
   "cell_type": "markdown",
   "metadata": {},
   "source": [
    "### plotting RoC curves, adjust the mod 2 remainders (%%2) for flipped lables"
   ]
  },
  {
   "cell_type": "code",
   "execution_count": 33,
   "metadata": {},
   "outputs": [
    {
     "data": {
      "text/html": [
       "<strong>PNG:</strong> 2"
      ],
      "text/latex": [
       "\\textbf{PNG:} 2"
      ],
      "text/markdown": [
       "**PNG:** 2"
      ],
      "text/plain": [
       "PNG \n",
       "  2 "
      ]
     },
     "metadata": {},
     "output_type": "display_data"
    },
    {
     "data": {
      "text/html": [
       "<strong>PNG:</strong> 2"
      ],
      "text/latex": [
       "\\textbf{PNG:} 2"
      ],
      "text/markdown": [
       "**PNG:** 2"
      ],
      "text/plain": [
       "PNG \n",
       "  2 "
      ]
     },
     "metadata": {},
     "output_type": "display_data"
    }
   ],
   "source": [
    "\n",
    "roc1 = roc((as.numeric(block0$DX))%%2, as.numeric(testP))\n",
    "pdf('/gpfs/projects/UITS/IUNI/IMAGENE/workingdir/yan30/RAWoriginal.pdf')\n",
    "plot.roc(roc1,print.auc = TRUE,print.auc.cex=2,\n",
    "         auc.polygon = TRUE,\n",
    "         grid=c(0.1, 0.2),\n",
    "         grid.col = c(\"green\", \"red\"),\n",
    "         max.auc.polygon = TRUE,\n",
    "         auc.polygon.col = \"skyblue\",\n",
    "         #print.thres = TRUE, \n",
    "         cex.lab=1.6, cex.axis=1.6, cex.main=1.6, cex.sub=1.6)\n",
    "dev.off()\n",
    "\n",
    "roc1 = roc((as.numeric(block0$DX))%%2, as.numeric(testSP))\n",
    "pdf('/gpfs/projects/UITS/IUNI/IMAGENE/workingdir/yan30/RAWregressed.pdf')\n",
    "plot.roc(roc1,print.auc = TRUE,print.auc.cex=2,\n",
    "         auc.polygon = TRUE,\n",
    "         grid=c(0.1, 0.2),\n",
    "         grid.col = c(\"green\", \"red\"),\n",
    "         max.auc.polygon = TRUE,\n",
    "         auc.polygon.col = \"skyblue\",\n",
    "         #print.thres = TRUE, \n",
    "         cex.lab=1.6, cex.axis=1.6, cex.main=1.6, cex.sub=1.6)\n",
    "dev.off()\n",
    "\n"
   ]
  },
  {
   "cell_type": "markdown",
   "metadata": {},
   "source": [
    "### Optional: Kernel viuslaizations"
   ]
  },
  {
   "cell_type": "code",
   "execution_count": null,
   "metadata": {},
   "outputs": [],
   "source": [
    "K <- as.kernelMatrix(as.matrix(meta.kernel$kernel));\n",
    "K0 <- as.kernelMatrix(as.matrix(meta.kernel0$kernel));\n",
    "K1 <- as.kernelMatrix(as.matrix(meta.kernel1$kernel));\n",
    "\n",
    "Ks <- as.kernelMatrix(as.matrix(meta.kernel$kernel));\n",
    "K0s <- as.kernelMatrix(as.matrix(meta.kernel0$kernel));\n",
    "K1s <- as.kernelMatrix(as.matrix(meta.kernel1$kernel));\n",
    "\n",
    "sc <- kkmeans(K, centers = 3);\n",
    "sc\n",
    "centers(sc)\n",
    "size(sc)\n",
    "withinss(sc)\n",
    "plot(K, col=sc)\n",
    "\n",
    "pca_K <- kpca(K, features = 3, th = 1e-4)\n",
    "pcv(pca_K)\n",
    "\n",
    "##t-sne plots\n",
    "library(tsne)\n",
    "ecb = function(x,y){ plot(x,t='n'); text(x,col=sc)}\n",
    "pdf('/gpfs/projects/UITS/IUNI/IMAGENE/Phom_output/clusteringResults/test.pdf')\n",
    "tsne_K = tsne(K, epoch_callback = ecb, perplexity=5)\n",
    "dev.off()\n",
    "\n",
    "output = kernel.pca.result$x\n",
    "output <- cbind(output, feature)\n",
    "\n",
    "write.table(output, file='/gpfs/projects/UITS/IUNI/IMAGENE/workingdir/yan30/thickPH1(2)KPCA.tsv', quote=FALSE, sep='\\t', col.names = F, row.names = F)\n",
    "write.table(sc@.Data, file= '/gpfs/projects/UITS/IUNI/IMAGENE/workingdir/yan30/thickPH1(2)label.tsv', quote=FALSE, sep='\\t', col.names = F, row.names = F)\n",
    "write.table(appoxInput, file= '/gpfs/projects/UITS/IUNI/IMAGENE/workingdir/yan30/Covarates.tsv', quote=FALSE, sep='\\t', col.names = T, row.names = F)"
   ]
  },
  {
   "cell_type": "markdown",
   "metadata": {},
   "source": [
    "### Optional 2: Creating persistence-scale-space kernels from topological features (based on birth-death points). These will take hours to complete."
   ]
  },
  {
   "cell_type": "code",
   "execution_count": null,
   "metadata": {},
   "outputs": [],
   "source": [
    "cppFunction('double xfun2(const NumericMatrix x, const NumericMatrix y, double sigma) {\n",
    "         int n = x.nrow(), m = y.nrow();\n",
    "         double temp = 0;\n",
    "         for (int i = 0; i < n; i++) {\n",
    "           for (int j = 0; j < m ; j++) {\n",
    "             temp += exp(-pow(pow(x(i,0)-y(j,0),2)+pow(x(i,1)-y(j,1),2),0.5)/8/sigma)\n",
    "                      -exp(-pow(pow(x(i,0)-y(j,1),2)+pow(x(i,1)-y(j,0),2),0.5)/8/sigma);\n",
    "           }\n",
    "         }\n",
    "         return temp/8/sigma/3.14159265;\n",
    "      }')\n",
    "start.time0 <- Sys.time()\n",
    "#setwd(\"/gpfs/projects/UITS/IUNI/IMAGENE/Phom_output/thickness_PH_normed_max/PH0_thinTOthick/\")\n",
    "setwd(\"/gpfs/projects/UITS/IUNI/IMAGENE/Phom_output/gene_PH_normed_max/PH0_test/\")\n",
    "temp = list.files(pattern=\"*.csv\")\n",
    "PH0_thickTOthin = lapply(temp, read.csv)\n",
    "Kmatrix <- diag(length(PH0_thickTOthin))\n",
    "start.time <- Sys.time()\n",
    "call.time = 0\n",
    "for (i in 1:(length(PH0_thickTOthin)-1)){\n",
    "  for (j in (i):length(PH0_thickTOthin)){\n",
    "    x <- data.matrix(PH0_thickTOthin[[i]][,1:2])\n",
    "    y <- data.matrix(PH0_thickTOthin[[j]][,1:2])\n",
    "    x <- x[is.finite(rowSums(x)),]\n",
    "    y <- y[is.finite(rowSums(y)),]\n",
    "    call.time <- call.time + system.time(Kmatrix[i,j] <- xfun2(x, y, 1))[3]\n",
    "  }\n",
    "}\n",
    "end.time <- Sys.time()\n",
    "Kmatrix[lower.tri(Kmatrix)]  <- t(Kmatrix)[lower.tri(Kmatrix)]\n",
    "end.time - start.time\n",
    "call.time/3600\n",
    "write.table(Kmatrix, file='/N/u/yan30/Karst/R/thickPH0thinKernel.tsv', quote=FALSE, sep='\\t', col.names = F, row.names = F)"
   ]
  },
  {
   "cell_type": "markdown",
   "metadata": {},
   "source": [
    "### Optional 3: Creating simple flat kernels from topological features (for comparison purposes)"
   ]
  },
  {
   "cell_type": "code",
   "execution_count": null,
   "metadata": {},
   "outputs": [],
   "source": [
    "library(data.table)\n",
    "setwd(\"/gpfs/projects/UITS/IUNI/IMAGENE/AliceCSVs_12122018/\")\n",
    "block2 = read.csv(\"ThicknessValues.csv\", header=TRUE, sep=\",\");\n",
    "block3 = read.csv(\"ThicknessValues_AgeResidualized.csv\", header=TRUE, sep=\",\");\n",
    "block2 <- transpose(block2)\n",
    "block3 <- transpose(block3)\n",
    "\n",
    "#mixkernel return kernels with NaN, use kernelab instead\n",
    "dt <- as.matrix(block2)\n",
    "## initialize kernel function\n",
    "rbf <- rbfdot(sigma = 0.001)\n",
    "rbf\n",
    "## calculate kernel matrix\n",
    "Korig = kernelMatrix(rbf, dt)\n",
    "dt <- as.matrix(block3)\n",
    "## initialize kernel function\n",
    "rbf <- rbfdot(sigma = 0.001)\n",
    "rbf\n",
    "## calculate kernel matrix\n",
    "temp = kernelMatrix(rbf, dt)\n",
    "\n",
    "#block2 <- block2[, colSums(abs(block2))!= 0, drop = F]\n",
    "Korig <- compute.kernel(data.matrix(Korig), kernel.func = \"kidentity\", test.pos.semidef = TRUE);\n",
    "#appoxInput <- nearPD(data.matrix(temp),ensureSymmetry = TRUE)\n",
    "Kregress <- compute.kernel((temp+t(temp))/2, kernel.func = \"kidentity\", test.pos.semidef = TRUE);\n",
    "\n",
    "meta.kernel0 <- combine.kernels(Thick1=Korig, Age=Kage, Edu=Kedu, Gender=Kgender,method = \"sparse-UMKL\")\n",
    "meta.kernel1 <- combine.kernels(Thick1=Kregress, Age=Kage, Edu=Kedu, Gender=Kgender,method = \"sparse-UMKL\")\n",
    "\n",
    "K <- as.kernelMatrix(as.matrix(meta.kernel0$kernel));\n",
    "Ks <- as.kernelMatrix(as.matrix(meta.kernel1$kernel));\n",
    "\n",
    "kernel.pca.result <- kernel.pca(meta.kernel1,  ncomp = 4)\n",
    "\n",
    "#appoxInput$mat"
   ]
  }
 ],
 "metadata": {
  "kernelspec": {
   "display_name": "R",
   "language": "R",
   "name": "ir"
  },
  "language_info": {
   "codemirror_mode": "r",
   "file_extension": ".r",
   "mimetype": "text/x-r-source",
   "name": "R",
   "pygments_lexer": "r",
   "version": "3.3.1"
  }
 },
 "nbformat": 4,
 "nbformat_minor": 2
}
